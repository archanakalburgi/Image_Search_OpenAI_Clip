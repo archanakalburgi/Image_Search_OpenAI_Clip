{
 "cells": [
  {
   "cell_type": "code",
   "execution_count": 2,
   "metadata": {},
   "outputs": [
    {
     "name": "stdout",
     "output_type": "stream",
     "text": [
      "Collecting git+https://github.com/openai/CLIP.git\n",
      "  Cloning https://github.com/openai/CLIP.git to /private/var/folders/c_/ftm5l1fn2zx9t8z8jmgrjq140000gn/T/pip-req-build-quozwrlr\n",
      "Collecting ftfy\n",
      "  Using cached ftfy-6.0.3.tar.gz (64 kB)\n",
      "Requirement already satisfied: regex in /Users/anupkalburgi/opt/anaconda3/lib/python3.8/site-packages (from clip==1.0) (2020.10.15)\n",
      "Requirement already satisfied: tqdm in /Users/anupkalburgi/opt/anaconda3/lib/python3.8/site-packages (from clip==1.0) (4.50.2)\n",
      "Requirement already satisfied: torch in /Users/anupkalburgi/opt/anaconda3/lib/python3.8/site-packages (from clip==1.0) (1.7.1)\n",
      "Requirement already satisfied: torchvision in /Users/anupkalburgi/opt/anaconda3/lib/python3.8/site-packages (from clip==1.0) (0.8.2)\n",
      "Requirement already satisfied: wcwidth in /Users/anupkalburgi/opt/anaconda3/lib/python3.8/site-packages (from ftfy->clip==1.0) (0.2.5)\n",
      "Requirement already satisfied: typing_extensions in /Users/anupkalburgi/opt/anaconda3/lib/python3.8/site-packages (from torch->clip==1.0) (3.7.4.3)\n",
      "Requirement already satisfied: numpy in /Users/anupkalburgi/opt/anaconda3/lib/python3.8/site-packages (from torch->clip==1.0) (1.19.2)\n",
      "Requirement already satisfied: pillow>=4.1.1 in /Users/anupkalburgi/opt/anaconda3/lib/python3.8/site-packages (from torchvision->clip==1.0) (8.0.1)\n",
      "Building wheels for collected packages: clip, ftfy\n",
      "  Building wheel for clip (setup.py) ... \u001b[?25ldone\n",
      "\u001b[?25h  Created wheel for clip: filename=clip-1.0-py3-none-any.whl size=1369094 sha256=f5e1ab0b1d0edf96f4cf719e7d1f612496fecdae93263a6e01c95330dd3d76c1\n",
      "  Stored in directory: /private/var/folders/c_/ftm5l1fn2zx9t8z8jmgrjq140000gn/T/pip-ephem-wheel-cache-92cpqaek/wheels/ab/4f/3a/5e51521b55997aa6f0690e095c08824219753128ce8d9969a3\n",
      "  Building wheel for ftfy (setup.py) ... \u001b[?25ldone\n",
      "\u001b[?25h  Created wheel for ftfy: filename=ftfy-6.0.3-py3-none-any.whl size=41914 sha256=90108669d4b2c5017b4e96eb9c51bca7634e8e65a23d468d3e37c342694482eb\n",
      "  Stored in directory: /Users/anupkalburgi/Library/Caches/pip/wheels/7f/40/63/4bf603cec3ecc4a26985405834cb47eb8368bfa59e15dde046\n",
      "Successfully built clip ftfy\n",
      "Installing collected packages: ftfy, clip\n",
      "Successfully installed clip-1.0 ftfy-6.0.3\n"
     ]
    }
   ],
   "source": [
    "!pip install git+https://github.com/openai/CLIP.git"
   ]
  },
  {
   "cell_type": "code",
   "execution_count": 3,
   "metadata": {},
   "outputs": [
    {
     "name": "stdout",
     "output_type": "stream",
     "text": [
      "Collecting annoy\n",
      "  Using cached annoy-1.17.0.tar.gz (646 kB)\n",
      "Building wheels for collected packages: annoy\n",
      "  Building wheel for annoy (setup.py) ... \u001b[?25ldone\n",
      "\u001b[?25h  Created wheel for annoy: filename=annoy-1.17.0-cp38-cp38-macosx_10_12_x86_64.whl size=71416 sha256=51cfbe92a2083377548362ce1e749e87598aafd3ddf4cd029a62b3c43b796c68\n",
      "  Stored in directory: /Users/anupkalburgi/Library/Caches/pip/wheels/77/01/de/4421524f9997a25dfa7291121565d12ef514154945e80e907a\n",
      "Successfully built annoy\n",
      "Installing collected packages: annoy\n",
      "Successfully installed annoy-1.17.0\n",
      "Requirement already satisfied: ftfy in /Users/anupkalburgi/opt/anaconda3/lib/python3.8/site-packages (6.0.3)\n",
      "Requirement already satisfied: regex in /Users/anupkalburgi/opt/anaconda3/lib/python3.8/site-packages (2020.10.15)\n",
      "Requirement already satisfied: tqdm in /Users/anupkalburgi/opt/anaconda3/lib/python3.8/site-packages (4.50.2)\n",
      "Requirement already satisfied: wcwidth in /Users/anupkalburgi/opt/anaconda3/lib/python3.8/site-packages (from ftfy) (0.2.5)\n"
     ]
    }
   ],
   "source": [
    "!pip install annoy\n",
    "!pip install ftfy regex tqdm"
   ]
  },
  {
   "cell_type": "code",
   "execution_count": 4,
   "metadata": {},
   "outputs": [],
   "source": [
    "import torch\n",
    "import clip\n",
    "from PIL import Image\n",
    "\n",
    "from annoy import AnnoyIndex"
   ]
  },
  {
   "cell_type": "code",
   "execution_count": 5,
   "metadata": {},
   "outputs": [],
   "source": [
    "f = 512\n",
    "anno_tree = AnnoyIndex(f, 'angular')"
   ]
  },
  {
   "cell_type": "code",
   "execution_count": 6,
   "metadata": {},
   "outputs": [],
   "source": [
    "device = \"cuda\" if torch.cuda.is_available() else \"cpu\"\n",
    "model, preprocess = clip.load(\"ViT-B/32\", device=device)\n",
    "\n",
    "image = preprocess(Image.open(\"CLIP.png\")).unsqueeze(0).to(device)\n",
    "text = clip.tokenize([\"a diagram\", \"a dog\", \"a cat\"]).to(device)\n",
    "\n",
    "with torch.no_grad():\n",
    "    image_features = model.encode_image(image)\n",
    "    text_features = model.encode_text(text)"
   ]
  },
  {
   "cell_type": "code",
   "execution_count": 13,
   "metadata": {},
   "outputs": [],
   "source": [
    "anno_tree.add_item(1, text_features.cpu().numpy()[0].tolist())"
   ]
  },
  {
   "cell_type": "code",
   "execution_count": null,
   "metadata": {},
   "outputs": [],
   "source": []
  }
 ],
 "metadata": {
  "interpreter": {
   "hash": "f80d2b4d6695943dcedfef51f18a9f1e2fe86612dbc1bae374e3b034544a32e5"
  },
  "kernelspec": {
   "display_name": "Python 3.8.10 64-bit ('shop': pyenv)",
   "language": "python",
   "name": "python3"
  },
  "language_info": {
   "codemirror_mode": {
    "name": "ipython",
    "version": 3
   },
   "file_extension": ".py",
   "mimetype": "text/x-python",
   "name": "python",
   "nbconvert_exporter": "python",
   "pygments_lexer": "ipython3",
   "version": "3.8.5"
  },
  "orig_nbformat": 4
 },
 "nbformat": 4,
 "nbformat_minor": 2
}
